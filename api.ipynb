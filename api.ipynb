{
 "cells": [
  {
   "cell_type": "code",
   "execution_count": null,
   "metadata": {},
   "outputs": [],
   "source": [
    "#import library\n",
    "import tweepy\n",
    "from tweepy import OAuthHandler\n",
    "import json\n",
    "from timeit import default_timer as timer\n",
    "\n",
    "# enter personal Twitter API keys and access tokens\n",
    "consumer_key = 'HIDDEN'\n",
    "consumer_secret = 'HIDDEN'\n",
    "access_token = 'HIDDEN'\n",
    "access_secret = 'HIDDEN'\n",
    "\n",
    "#construct OAuthHandler instance\n",
    "auth = tweepy.OAuthHandler(consumer_key, consumer_secret)\n",
    "auth.set_access_token(access_token, access_secret)\n",
    "\n",
    "#construct api instance\n",
    "api = tweepy.API(auth_handler = auth, \n",
    "                 wait_on_rate_limit = True, \n",
    "                 wait_on_rate_limit_notify = True)\n",
    "\n",
    "#store the results into a list\n",
    "df_list = []\n",
    "#store errors into another list \n",
    "error_list = []\n",
    "\n",
    "#starting time\n",
    "start = time.time()\n",
    "\n",
    "#get the tweet objects into dataframe\n",
    "for tweet_id in df_archive['tweet_id']:\n",
    "    #using try to control errors\n",
    "    try:\n",
    "        status = api.get_status(tweet_id, tweet_mode = 'extended')\n",
    "        #creating tweet time\n",
    "        create_time = status['created_at'] \n",
    "        #number of retweets\n",
    "        retweets_num = status['retweet_count']\n",
    "        #number of followers\n",
    "        follower_num = status['user']['followers_count'] \n",
    "        #number of favorite \n",
    "        fav_counts = status['favorite_count'] \n",
    "        \n",
    "        #append to a dictionary\n",
    "        df_list.append({'tweet_id': int(tweet_id),\n",
    "                        'date_time': pd.to_datetime(create_time),\n",
    "                        'retweets': int(retweets_num),\n",
    "                        'user_followers': int(follower_num),\n",
    "                        'favorites': int(fav_counts)\n",
    "                        })\n",
    "    \n",
    "    #get the exceptions error\n",
    "    except Exception as i:\n",
    "        print(str(tweet_id)+ \" _ \" + str(i))\n",
    "        error_list.append(tweet_id)\n",
    "\n",
    "#calculate the excution time \n",
    "end = time.time()\n",
    "end - start"
   ]
  },
  {
   "cell_type": "code",
   "execution_count": null,
   "metadata": {},
   "outputs": [],
   "source": [
    "#the number of successful results\n",
    "len(df_list)"
   ]
  },
  {
   "cell_type": "code",
   "execution_count": null,
   "metadata": {},
   "outputs": [],
   "source": [
    "#the number of errors\n",
    "len(error_list)"
   ]
  },
  {
   "cell_type": "code",
   "execution_count": null,
   "metadata": {},
   "outputs": [],
   "source": [
    "#repeat the step to find error\n",
    "error2_list = []\n",
    "for i in error_list:\n",
    "    try:\n",
    "        #creating tweet time\n",
    "        create_time = status['created_at'] \n",
    "        #number of retweets\n",
    "        retweets_num = status['retweet_count']\n",
    "        #number of followers\n",
    "        follower_num = status['user']['followers_count'] \n",
    "        #number of favorite \n",
    "        fav_counts = status['favorite_count'] \n",
    "        \n",
    "        #append to a dictionary\n",
    "        df_list.append({'tweet_id': int(tweet_id),\n",
    "                        'date_time': pd.to_datetime(create_time),\n",
    "                        'retweets': int(retweets_num),\n",
    "                        'user_followers': int(follower_num),\n",
    "                        'favorites': int(fav_counts)\n",
    "                        })\n",
    "        \n",
    "    except Exception:\n",
    "        print(str(tweet_id)+ \" _ \" + str(i))\n",
    "        error2_list.append(i)"
   ]
  },
  {
   "cell_type": "code",
   "execution_count": null,
   "metadata": {},
   "outputs": [],
   "source": [
    "#the number of successful results\n",
    "len(df_list)"
   ]
  },
  {
   "cell_type": "code",
   "execution_count": null,
   "metadata": {},
   "outputs": [],
   "source": [
    "#the number of errors\n",
    "len(error2_list)"
   ]
  },
  {
   "cell_type": "code",
   "execution_count": null,
   "metadata": {},
   "outputs": [],
   "source": [
    "# create dataFrames \n",
    "df_json = pd.DataFrame(df_list, columns = ['tweet_id', 'date_time', 'retweets',\n",
    "                                               'user_followers', 'favorites'])\n",
    "\n",
    "# save the dataFrame into file\n",
    "df_json.to_csv('tweet-json.txt', index=False)"
   ]
  },
  {
   "cell_type": "code",
   "execution_count": null,
   "metadata": {},
   "outputs": [],
   "source": [
    "# read tweet_json.txt file into a dataframe\n",
    "df_json = pd.read_csv('tweet-json.txt')\n",
    "df_json.to_csv('tweet_json.csv')\n",
    "df_json.head()"
   ]
  },
  {
   "cell_type": "code",
   "execution_count": null,
   "metadata": {},
   "outputs": [],
   "source": []
  },
  {
   "cell_type": "code",
   "execution_count": null,
   "metadata": {},
   "outputs": [],
   "source": []
  }
 ],
 "metadata": {
  "kernelspec": {
   "display_name": "Python 3",
   "language": "python",
   "name": "python3"
  },
  "language_info": {
   "codemirror_mode": {
    "name": "ipython",
    "version": 3
   },
   "file_extension": ".py",
   "mimetype": "text/x-python",
   "name": "python",
   "nbconvert_exporter": "python",
   "pygments_lexer": "ipython3",
   "version": "3.7.6"
  }
 },
 "nbformat": 4,
 "nbformat_minor": 4
}
